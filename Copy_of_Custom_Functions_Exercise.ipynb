{
  "nbformat": 4,
  "nbformat_minor": 0,
  "metadata": {
    "colab": {
      "name": "Copy of Custom Functions Exercise",
      "provenance": [],
      "collapsed_sections": [
        "S2WNuBjne_qG"
      ],
      "include_colab_link": true
    },
    "kernelspec": {
      "name": "python3",
      "display_name": "Python 3"
    }
  },
  "cells": [
    {
      "cell_type": "markdown",
      "metadata": {
        "id": "view-in-github",
        "colab_type": "text"
      },
      "source": [
        "<a href=\"https://colab.research.google.com/github/larryk91/my-first-python-app/blob/main/Copy_of_Custom_Functions_Exercise.ipynb\" target=\"_parent\"><img src=\"https://colab.research.google.com/assets/colab-badge.svg\" alt=\"Open In Colab\"/></a>"
      ]
    },
    {
      "cell_type": "markdown",
      "metadata": {
        "id": "m4OgF-WX0Fxo"
      },
      "source": [
        "# References\n",
        "\n",
        "\n"
      ]
    },
    {
      "cell_type": "markdown",
      "metadata": {
        "id": "aedRcX8SYIqi"
      },
      "source": [
        "\n",
        "Please read these notes before attempting this exercise:\n",
        "\n",
        "  + https://docs.python.org/3/tutorial/controlflow.html#defining-functions\n",
        "  + https://docs.python.org/3/tutorial/controlflow.html#default-argument-values\n",
        "  + https://docs.python.org/3/tutorial/controlflow.html#keyword-arguments\n",
        "\n",
        "Optionally see also:\n",
        "\n",
        "  + https://github.com/prof-rossetti/intro-to-python/blob/master/notes/python/functions.md\n",
        "  + https://github.com/prof-rossetti/intro-to-python/blob/master/notes/python/docstrings.md"
      ]
    },
    {
      "cell_type": "markdown",
      "metadata": {
        "id": "YHt4V6UxY0NF"
      },
      "source": [
        "Example function definition (with docstring) and example function invocations:"
      ]
    },
    {
      "cell_type": "code",
      "metadata": {
        "id": "9PpEnwHnWXTh"
      },
      "source": [
        "# DEFINING A FUNCTION\n",
        "\n",
        "def first_function():\n",
        "  print(\"Hello World\")"
      ],
      "execution_count": null,
      "outputs": []
    },
    {
      "cell_type": "code",
      "metadata": {
        "id": "ZHFI2v8RWs6_",
        "colab": {
          "base_uri": "https://localhost:8080/"
        },
        "outputId": "56d16330-9d34-4cb2-8c6e-95dccba5df80"
      },
      "source": [
        "first_function()\n",
        "first_function()"
      ],
      "execution_count": null,
      "outputs": [
        {
          "output_type": "stream",
          "name": "stdout",
          "text": [
            "Hello World\n",
            "Hello World\n"
          ]
        }
      ]
    },
    {
      "cell_type": "code",
      "metadata": {
        "id": "OOEGfT5LYLn6"
      },
      "source": [
        "# DEFINING A FUNCTION WITH PARAMETERS AND RETURN VALUES\n",
        "\n",
        "def enlarge(n):\n",
        "    \"\"\"\n",
        "    Enlarges a given number, returns the number multiplied by 100.\n",
        "\n",
        "    Params: n (numeric) a number like 9\n",
        "\n",
        "    Example: enlarge(9)\n",
        "    \"\"\"\n",
        "    return n * 100"
      ],
      "execution_count": null,
      "outputs": []
    },
    {
      "cell_type": "code",
      "metadata": {
        "id": "nScl_u0QZDIl"
      },
      "source": [
        "# FUNCTION INVOCATIONS\n",
        "\n",
        "print(enlarge(9))\n",
        "print(enlarge(3))"
      ],
      "execution_count": null,
      "outputs": []
    },
    {
      "cell_type": "code",
      "metadata": {
        "id": "Sjrpmu3KXhc1"
      },
      "source": [
        "# FUNCTION INVOCATIONS PT2\n",
        "\n",
        "hold = enlarge(2)\n",
        "\n",
        "print(hold)"
      ],
      "execution_count": null,
      "outputs": []
    },
    {
      "cell_type": "markdown",
      "metadata": {
        "id": "S2WNuBjne_qG"
      },
      "source": [
        "\n",
        "# Instructions\n",
        "\n",
        "\n"
      ]
    },
    {
      "cell_type": "markdown",
      "metadata": {
        "id": "9VcdzHLiOrCt"
      },
      "source": [
        "\n",
        "Make a copy of this notebook so you can edit and save your own version of it. Do the work in your copy of the notebook."
      ]
    },
    {
      "cell_type": "markdown",
      "metadata": {
        "id": "Jjgzk-DvfCty"
      },
      "source": [
        "\n",
        "## Basic Requirements\n",
        "\n",
        "For each of the three challenges below, write a custom function to address the requirements. \n",
        "\n",
        "After writing a function in (and running) the first code cell, you should be able to then run the cell(s) immediately below which use some provided code to use or \"invoke\" the function. If you have defined the functions properly, the invocation cells should just work as-is.\n",
        "\n",
        "## Further Exploration Challenge\n",
        "\n",
        "Ideally also add a [\"docstring\"](https://github.com/prof-rossetti/intro-to-python/blob/master/notes/python/docstrings.md) to each function, to provide more information about the parameters it accepts, and the job it is expected to perform.\n"
      ]
    },
    {
      "cell_type": "markdown",
      "metadata": {
        "id": "mdOQuAFkfHTd"
      },
      "source": [
        "# Challenges"
      ]
    },
    {
      "cell_type": "markdown",
      "metadata": {
        "id": "zgeFDH0CR6cN"
      },
      "source": [
        "## 1) Motivation Function\n",
        "\n",
        "Define a custom function called `motivate()`, the responsibility of which is to print a motivational or inspirational textual message like \"Row harder, you can do it!\". The function doesn't need any parameter inputs or return values. It can display the same message every time."
      ]
    },
    {
      "cell_type": "code",
      "metadata": {
        "id": "ism3HbhJR6Hi"
      },
      "source": [
        "# FUNCTION DEFINITION\n",
        "\n",
        "# (todo)\n"
      ],
      "execution_count": null,
      "outputs": []
    },
    {
      "cell_type": "code",
      "metadata": {
        "id": "XWW1iycMR44V"
      },
      "source": [
        "# FUNCTION INVOCATIONS\n",
        "\n",
        "motivate()\n",
        "motivate()\n",
        "motivate()\n",
        "motivate()\n"
      ],
      "execution_count": null,
      "outputs": []
    },
    {
      "cell_type": "markdown",
      "metadata": {
        "id": "ElJb0gWG0uRT"
      },
      "source": [
        "\n",
        "## 2) Temperature Conversion Function\n",
        "\n",
        "Define a custom function called `celsius_to_fahrenheit()`, the responsibility of which is to convert a Celsius temperature (e.g. `0`) to a Fahrenheit temperature (e.g. `32`). Inside the function's definition, use a mathematical formula to convert the temperature and return the resulting value.\n"
      ]
    },
    {
      "cell_type": "code",
      "metadata": {
        "id": "Tb5YtYEb0DEg"
      },
      "source": [
        "# FUNCTION DEFINITION\n",
        "\n",
        "# (todo)\n",
        "\n"
      ],
      "execution_count": null,
      "outputs": []
    },
    {
      "cell_type": "code",
      "metadata": {
        "id": "DQKdwjAKOibU"
      },
      "source": [
        "# FUNCTION INVOCATIONS\n",
        "\n",
        "print(celsius_to_fahrenheit(0))\n",
        "print(celsius_to_fahrenheit(10))\n",
        "print(celsius_to_fahrenheit(20))\n",
        "print(celsius_to_fahrenheit(30))\n",
        "print(celsius_to_fahrenheit(40))\n",
        "\n",
        "print(\"---------\")\n",
        "\n",
        "c = input(\"PLEASE CHOOSE A CELSIUS TEMP: \")\n",
        "f = celsius_to_fahrenheit(c)\n",
        "print(\"THE CELSIUS TEMP IS:\", c, \"DEGREES\")\n",
        "print(\"THE FAHRENHEIT EQUIVALENT IS:\", f, \"DEGREES\")"
      ],
      "execution_count": null,
      "outputs": []
    },
    {
      "cell_type": "markdown",
      "metadata": {
        "id": "Xjb98FD21VIj"
      },
      "source": [
        "\n",
        "## 3) Letter Grade Conversion Function\n",
        "\n",
        "Define a custom function called `number_to_letter_grade()`, the responsibility of which is to convert a numeric grade (e.g. `87`) to a corresponding letter grade (e.g. `B`). Inside the function's definition, use your own custom algorithm to convert the grade and return the resulting value.\n"
      ]
    },
    {
      "cell_type": "code",
      "metadata": {
        "id": "-PXqEqQMTDTJ"
      },
      "source": [
        "# FUNCTION DEFINITION\n",
        "\n",
        "# (todo)"
      ],
      "execution_count": null,
      "outputs": []
    },
    {
      "cell_type": "code",
      "metadata": {
        "id": "7VNEWlSBS9I0"
      },
      "source": [
        "\n",
        "# FUNCTION INVOCATIONS\n",
        "\n",
        "print(number_to_letter_grade(100))\n",
        "print(number_to_letter_grade(95))\n",
        "print(number_to_letter_grade(85))\n",
        "print(number_to_letter_grade(75))\n",
        "print(number_to_letter_grade(50))\n",
        "\n",
        "print(\"------------\")\n",
        "\n",
        "score = 87\n",
        "print(\"THE NUMERIC SCORE IS:\", score)\n",
        "grade = number_to_letter_grade(score)\n",
        "print(\"THE LETTER-GRADE EQUIVALENT IS:\", grade)"
      ],
      "execution_count": null,
      "outputs": []
    }
  ]
}